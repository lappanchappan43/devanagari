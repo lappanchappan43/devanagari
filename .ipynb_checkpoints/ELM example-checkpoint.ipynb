{
 "cells": [
  {
   "cell_type": "code",
   "execution_count": 1,
   "metadata": {},
   "outputs": [],
   "source": [
    "import numpy as np\n",
    "from tensorflow.keras.datasets import mnist\n",
    "from tensorflow.keras.utils import to_categorical\n",
    "from matplotlib import pyplot as plt\n",
    "import random\n",
    "from model import ELM"
   ]
  },
  {
   "cell_type": "code",
   "execution_count": 2,
   "metadata": {},
   "outputs": [],
   "source": [
    "# Network Settings\n",
    "num_classes = 10\n",
    "num_hidden_layers = 512\n",
    "input_length = 28**2"
   ]
  },
  {
   "cell_type": "code",
   "execution_count": 3,
   "metadata": {},
   "outputs": [
    {
     "name": "stdout",
     "output_type": "stream",
     "text": [
      "Downloading data from https://storage.googleapis.com/tensorflow/tf-keras-datasets/mnist.npz\n",
      "11493376/11490434 [==============================] - 2s 0us/step\n"
     ]
    }
   ],
   "source": [
    "# Load MNIST Dataset\n",
    "(x_train, y_train), (x_test, y_test) = mnist.load_data()\n",
    "\n",
    "# Process images into input vectors\n",
    "# each mnist image is a 28x28 picture with value ranges between 0 and 255\n",
    "x_train = x_train.astype(np.float32) / 255.\n",
    "x_train = x_train.reshape(-1, input_length)\n",
    "x_test = x_test.astype(np.float32) / 255.\n",
    "x_test = x_test.reshape(-1, input_length)\n",
    "\n",
    "# converts [1,2] into [[0,1,0], [0,0,1]]\n",
    "y_train = to_categorical(y_train, num_classes).astype(np.float32)\n",
    "y_test = to_categorical(y_test, num_classes).astype(np.float32)"
   ]
  },
  {
   "cell_type": "code",
   "execution_count": 7,
   "metadata": {},
   "outputs": [
    {
     "name": "stdout",
     "output_type": "stream",
     "text": [
      "[[0. 0. 0. ... 0. 0. 0.]\n",
      " [0. 0. 0. ... 0. 0. 0.]\n",
      " [0. 0. 0. ... 0. 0. 0.]\n",
      " ...\n",
      " [0. 0. 0. ... 0. 0. 0.]\n",
      " [0. 0. 0. ... 0. 0. 0.]\n",
      " [0. 0. 0. ... 0. 0. 0.]] [[0. 0. 0. ... 0. 0. 0.]\n",
      " [1. 0. 0. ... 0. 0. 0.]\n",
      " [0. 0. 0. ... 0. 0. 0.]\n",
      " ...\n",
      " [0. 0. 0. ... 0. 0. 0.]\n",
      " [0. 0. 0. ... 0. 0. 0.]\n",
      " [0. 0. 0. ... 0. 1. 0.]]\n"
     ]
    }
   ],
   "source": [
    "print(x_train, y_train)"
   ]
  },
  {
   "cell_type": "code",
   "execution_count": 8,
   "metadata": {},
   "outputs": [
    {
     "name": "stdout",
     "output_type": "stream",
     "text": [
      "Bias shape: (512,)\n",
      "W shape: (784, 512)\n",
      "Beta shape: (512, 10)\n"
     ]
    }
   ],
   "source": [
    "# create instance of our model\n",
    "model = ELM(\n",
    "    input_length,\n",
    "    num_hidden_layers,\n",
    "    num_classes\n",
    ")"
   ]
  },
  {
   "cell_type": "code",
   "execution_count": 9,
   "metadata": {},
   "outputs": [
    {
     "data": {
      "text/plain": [
       "['__call__',\n",
       " '__class__',\n",
       " '__delattr__',\n",
       " '__dict__',\n",
       " '__dir__',\n",
       " '__doc__',\n",
       " '__eq__',\n",
       " '__format__',\n",
       " '__ge__',\n",
       " '__getattribute__',\n",
       " '__gt__',\n",
       " '__hash__',\n",
       " '__init__',\n",
       " '__init_subclass__',\n",
       " '__le__',\n",
       " '__lt__',\n",
       " '__module__',\n",
       " '__ne__',\n",
       " '__new__',\n",
       " '__reduce__',\n",
       " '__reduce_ex__',\n",
       " '__repr__',\n",
       " '__setattr__',\n",
       " '__sizeof__',\n",
       " '__str__',\n",
       " '__subclasshook__',\n",
       " '__weakref__',\n",
       " '_activation',\n",
       " '_beta',\n",
       " '_bias',\n",
       " '_loss',\n",
       " '_num_hidden_units',\n",
       " '_num_input_nodes',\n",
       " '_num_out_units',\n",
       " '_w',\n",
       " 'evaluate',\n",
       " 'fit']"
      ]
     },
     "execution_count": 9,
     "metadata": {},
     "output_type": "execute_result"
    }
   ],
   "source": [
    "dir(model)"
   ]
  },
  {
   "cell_type": "code",
   "execution_count": 5,
   "metadata": {},
   "outputs": [
    {
     "name": "stdout",
     "output_type": "stream",
     "text": [
      "Train time: 3.594151735305786\n",
      "train loss: 0.014729\n",
      "train acc: 0.910000\n"
     ]
    }
   ],
   "source": [
    "# Train\n",
    "model.fit(x_train, y_train, display_time=True)\n",
    "train_loss, train_acc = model.evaluate(x_train, y_train)\n",
    "print('train loss: %f' % train_loss)\n",
    "print('train acc: %f' % train_acc)"
   ]
  },
  {
   "cell_type": "code",
   "execution_count": 6,
   "metadata": {},
   "outputs": [
    {
     "name": "stdout",
     "output_type": "stream",
     "text": [
      "val loss: 0.014554\n",
      "val acc: 0.911100\n"
     ]
    }
   ],
   "source": [
    "# Validation\n",
    "val_loss, val_acc = model.evaluate(x_test, y_test)\n",
    "print('val loss: %f' % val_loss)\n",
    "print('val acc: %f' % val_acc)"
   ]
  },
  {
   "cell_type": "code",
   "execution_count": 8,
   "metadata": {},
   "outputs": [
    {
     "data": {
      "image/png": "[encoded data removed]",
      "text/plain": [
       "<Figure size 1332x756 with 5 Axes>"
      ]
     },
     "metadata": {
      "needs_background": "light"
     },
     "output_type": "display_data"
    }
   ],
   "source": [
    "# Predictions\n",
    "test_data = x_test[np.random.choice(len(x_test), size=5, replace=False)]\n",
    "predictions = model(test_data)\n",
    "\n",
    "fig, axs = plt.subplots(1, 5)\n",
    "fig.set_size_inches(18.5, 10.5)\n",
    "for idx, image in enumerate(test_data):\n",
    "    image = np.array(image, dtype='float')\n",
    "    pixels = image.reshape((28, 28))\n",
    "    axs[idx].imshow(pixels, cmap='gray')\n",
    "    axs[idx].axes.get_yaxis().set_visible(False)\n",
    "    axs[idx].title.set_text(f'Predicted {np.argmax(predictions[idx])}')\n",
    "    axs[idx].set_xlabel(f'With prob: {str(round(np.max(predictions[idx]), 2))}')\n",
    "    \n",
    "    \n",
    "plt.show()"
   ]
  },
  {
   "cell_type": "code",
   "execution_count": null,
   "metadata": {},
   "outputs": [],
   "source": []
  }
 ],
 "metadata": {
  "kernelspec": {
   "display_name": "Python 3",
   "language": "python",
   "name": "python3"
  },
  "language_info": {
   "codemirror_mode": {
    "name": "ipython",
    "version": 3
   },
   "file_extension": ".py",
   "mimetype": "text/x-python",
   "name": "python",
   "nbconvert_exporter": "python",
   "pygments_lexer": "ipython3",
   "version": "3.7.7"
  }
 },
 "nbformat": 4,
 "nbformat_minor": 4
}
